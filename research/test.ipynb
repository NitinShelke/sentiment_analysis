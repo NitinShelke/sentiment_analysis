{
 "cells": [
  {
   "cell_type": "code",
   "execution_count": 1,
   "metadata": {},
   "outputs": [],
   "source": [
    "import os\n",
    "os.chdir(\"../\")"
   ]
  },
  {
   "cell_type": "code",
   "execution_count": 2,
   "metadata": {},
   "outputs": [],
   "source": [
    "from project.pipeline.cleaning import CleaningPipeline\n",
    "from project import logger"
   ]
  },
  {
   "cell_type": "code",
   "execution_count": 3,
   "metadata": {},
   "outputs": [],
   "source": [
    "processor = CleaningPipeline(\"config/config.yaml\")\n",
    "logger.info(\">>>>>>>>>> Data preprocessing started <<<<<<<<<<<<<<<\")\n",
    "processor.load_data()\n",
    "logger.info(\">>>>>>>>>> Data Loaded from storage   <<<<<<<<<<<<<<<\")\n",
    "processor.clean_data()\n",
    "logger.info(\">>>>>>>>>> Data Cleaning Completed <<<<<<<<<<<<<<<\")\n",
    "processor.save_data()\n",
    "logger.info(\">>>>>>>>>> Data Saved to Storage <<<<<<<<<<<<<<<\")\n",
    "logger.info(\">>>>>>>>>> Data preprocessing Completed <<<<<<<<<<<<<<<\")"
   ]
  },
  {
   "cell_type": "code",
   "execution_count": null,
   "metadata": {},
   "outputs": [],
   "source": []
  },
  {
   "cell_type": "code",
   "execution_count": null,
   "metadata": {},
   "outputs": [],
   "source": []
  }
 ],
 "metadata": {
  "kernelspec": {
   "display_name": "venv",
   "language": "python",
   "name": "python3"
  },
  "language_info": {
   "codemirror_mode": {
    "name": "ipython",
    "version": 3
   },
   "file_extension": ".py",
   "mimetype": "text/x-python",
   "name": "python",
   "nbconvert_exporter": "python",
   "pygments_lexer": "ipython3",
   "version": "3.8.19"
  }
 },
 "nbformat": 4,
 "nbformat_minor": 2
}
