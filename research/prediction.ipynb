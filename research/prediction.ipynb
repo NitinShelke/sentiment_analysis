{
 "cells": [
  {
   "cell_type": "code",
   "execution_count": 1,
   "metadata": {},
   "outputs": [],
   "source": [
    "import os\n",
    "os.chdir(\"../\")"
   ]
  },
  {
   "cell_type": "code",
   "execution_count": 2,
   "metadata": {},
   "outputs": [],
   "source": [
    "from project import logger\n",
    "from project.utils.common import read_yaml_file,clean_data\n",
    "\n",
    "import mlflow,boto3,pandas as pd,joblib"
   ]
  },
  {
   "cell_type": "code",
   "execution_count": 3,
   "metadata": {},
   "outputs": [],
   "source": [
    "config=read_yaml_file(\"config/config.yaml\")\n",
    "model_name=config.mlflow.model_name\n",
    "tracking_uri=config.mlflow.tracking_uri"
   ]
  },
  {
   "cell_type": "code",
   "execution_count": 4,
   "metadata": {},
   "outputs": [],
   "source": [
    "mlflow.set_tracking_uri(tracking_uri)"
   ]
  },
  {
   "cell_type": "code",
   "execution_count": 5,
   "metadata": {},
   "outputs": [],
   "source": [
    "text='i am feeling realy good today'"
   ]
  },
  {
   "cell_type": "code",
   "execution_count": 6,
   "metadata": {},
   "outputs": [],
   "source": [
    "df=pd.DataFrame({'text':pd.Series(text)})\n",
    "df=clean_data(df,'text')\n",
    "clened_text=df['text']"
   ]
  },
  {
   "cell_type": "code",
   "execution_count": 7,
   "metadata": {},
   "outputs": [],
   "source": [
    "def load_latest_model_and_artifacts():\n",
    "    client = mlflow.tracking.MlflowClient()\n",
    "    \n",
    "    try:\n",
    "        # Get the latest version of the model\n",
    "        latest_versions = client.get_latest_versions(model_name, stages=[\"None\"])\n",
    "        \n",
    "        if not latest_versions:\n",
    "            raise ValueError(f\"No registered versions found for model {model_name}.\")\n",
    "        \n",
    "        latest_version = latest_versions[-1]\n",
    "        run_id = latest_version.run_id\n",
    "\n",
    "        # Load the latest model\n",
    "        model_uri = f\"runs:/{run_id}/model\"\n",
    "        model = mlflow.pyfunc.load_model(model_uri)\n",
    "        \n",
    "        local_artifact_path = os.path.join('artifacts', run_id)\n",
    "        os.makedirs(local_artifact_path, exist_ok=True)\n",
    "        client.download_artifacts(run_id, \"vectorizer.pkl\",local_artifact_path)\n",
    "        \n",
    "        logger.info(f\"Loaded model from {model_uri}\")\n",
    "        logger.info(f\"Downloaded artifacts to {local_artifact_path}\")\n",
    "        \n",
    "        return model, local_artifact_path\n",
    "    \n",
    "    except mlflow.exceptions.RestException as e:\n",
    "        logger.error(f\"Error during loading model and artifacts: {e}\")\n",
    "        raise e\n",
    "    except Exception as e:\n",
    "        logger.error(f\"An unexpected error occurred: {e}\")\n",
    "        raise e\n",
    "\n",
    "# Example usage\n",
    "# model, artifacts_path = load_latest_model_and_artifacts(\"sentiment_classifier\", artifact_subpath=\"specific/path\")\n",
    "# model, artifacts_path = load_latest_model_and_artifacts(\"sentiment_classifier\")\n"
   ]
  },
  {
   "cell_type": "code",
   "execution_count": 8,
   "metadata": {},
   "outputs": [
    {
     "name": "stderr",
     "output_type": "stream",
     "text": [
      "Downloading artifacts: 100%|██████████| 9/9 [00:01<00:00,  5.35it/s] \n",
      "Downloading artifacts: 100%|██████████| 1/1 [00:00<00:00, 22.52it/s]\n"
     ]
    }
   ],
   "source": [
    "model,artfiact_path=load_latest_model_and_artifacts()"
   ]
  },
  {
   "cell_type": "code",
   "execution_count": 9,
   "metadata": {},
   "outputs": [],
   "source": [
    "vectorizer=joblib.load(os.path.join(artfiact_path,\"vectorizer.pkl\"))"
   ]
  },
  {
   "cell_type": "code",
   "execution_count": 11,
   "metadata": {},
   "outputs": [],
   "source": [
    "clened_text=vectorizer.transform(df['text'])\n",
    "clened_text=clened_text.toarray()"
   ]
  },
  {
   "cell_type": "code",
   "execution_count": 12,
   "metadata": {},
   "outputs": [
    {
     "data": {
      "text/plain": [
       "array(['positive'], dtype=object)"
      ]
     },
     "execution_count": 12,
     "metadata": {},
     "output_type": "execute_result"
    }
   ],
   "source": [
    "model.predict(clened_text)"
   ]
  },
  {
   "cell_type": "code",
   "execution_count": null,
   "metadata": {},
   "outputs": [],
   "source": []
  },
  {
   "cell_type": "code",
   "execution_count": null,
   "metadata": {},
   "outputs": [],
   "source": []
  }
 ],
 "metadata": {
  "kernelspec": {
   "display_name": "venv",
   "language": "python",
   "name": "python3"
  },
  "language_info": {
   "codemirror_mode": {
    "name": "ipython",
    "version": 3
   },
   "file_extension": ".py",
   "mimetype": "text/x-python",
   "name": "python",
   "nbconvert_exporter": "python",
   "pygments_lexer": "ipython3",
   "version": "3.8.19"
  }
 },
 "nbformat": 4,
 "nbformat_minor": 2
}
